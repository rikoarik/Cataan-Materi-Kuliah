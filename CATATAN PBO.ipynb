{
 "cells": [
  {
   "attachments": {},
   "cell_type": "markdown",
   "metadata": {},
   "source": [
    "# Class & Object\n",
    "__A. PENGERTIAN CLASS__\n",
    "\n",
    "   Kelas adalah kode template untuk membuat objek.  Objek memiliki variabel member dan memiliki perilaku yang terkait dengan mereka. Dengan python kelas dibuat oleh kata kunci class.\n",
    "\n",
    "   Struktur data yang bisa kita gunakan untuk mendefinisikan objek yang menyimpan data bersama nilai-nilai dan perilaku (behavior). Kelas adalah suatu entitas yang merupakan bentuk program dari suatu abstraksi untuk permasalahan dunia nyata, dan instans dari class merupakan realisasi dari beberapa objek.\n",
    "\n",
    "__B. PENGERTIAN OBJECT__\n",
    "    \n",
    "   Objek dibuat menggunakan konstruktor kelas.  Objek ini kemudian akan disebut contoh kelas.\n",
    "   Instance dari class. Jika class secara umum merepresentasikan (template) sebuah object, maka sebuah instance adalah representasi nyata dari class itu sendiri.\n",
    "![](/image/Picture2.png)\n",
    "![](/image/Screenshot%20%2820%29.png)\n"
   ]
  },
  {
   "attachments": {},
   "cell_type": "markdown",
   "metadata": {},
   "source": [
    "# Inheritance\n",
    "\n",
    "__PENGERTIAN__\n",
    "\n",
    "   Inheritance adalah kelas yang menggunakan kode yang terdapat di dalam kelas lain. Artinya, seorang anak dapat mewarisi tinggi atau warna mata orang tua. Anak tersebut juga bisa memiliki nama belakang yang sama dengan orang tua mereka.\n",
    "\n",
    "   Suatu kelas dapat mewarisi fungsi dari kelas lain. Apabila objek dibuat menggunakan kelas yang mewarisi dari superclass, objek tersebut akan berisi metode kelas dan superclass.\n",
    "\n",
    " Kelas yang disebut kelas anak atau subclass mewarisi metode dan variabel dari kelas orangtua atau kelas dasar.\n",
    "\n",
    "![](/image/latihan%202.jpg)\n"
   ]
  },
  {
   "attachments": {},
   "cell_type": "markdown",
   "metadata": {},
   "source": [
    "# Type of Inheritance\n",
    "\n",
    "Pewarisan/Penurunan adalah konsep suatu pemrograman dimana sebuah class dapat menurunkan property dan method yang dimiliki kepada class lain.\n",
    "Suatu kelas dapat mewarisi sebuah fungsi dari kelas lain.\n",
    "__Type Of Inheritance__\n",
    "![](/image/Picture1.png)\n",
    "\n",
    "\n",
    "__MULTIPLE INHERITANCE__\n",
    "Multiple inheritance adalah ketika kelas dapat mewarisi atribut dan metode dari lebih dari satu kelas induk.\n",
    "![](/image/image2.jpeg)"
   ]
  },
  {
   "attachments": {},
   "cell_type": "markdown",
   "metadata": {},
   "source": [
    "# Polymorphism\n",
    "__PENGERTIAN__\n",
    "Polimorfisme didasarkan pada kata-kata Yunani Poli (banyak) dan morphism (bentuk).   Kita akan menciptakan sebuah struktur yang dapat mengambil atau menggunakan banyak bentuk objek.\n",
    "\n",
    "Polymorphism adalah suatu object dapat memiliki berbagai bentuk, sebagai object dari class sendiri atau object dari superclassnya.\n",
    "dengan menggunakan inheritance kita dapat mewarisi semua akses data dan metode, , dan kita dapat menambahkan metode kita sendiri.\n",
    "inheritance memberikan cara untuk mengatur kode.\n",
    "![](/image/8.jpg)\n",
    "![](/image/9.jpg)"
   ]
  }
 ],
 "metadata": {
  "kernelspec": {
   "display_name": "Python 3",
   "language": "python",
   "name": "python3"
  },
  "language_info": {
   "codemirror_mode": {
    "name": "ipython",
    "version": 3
   },
   "file_extension": ".py",
   "mimetype": "text/x-python",
   "name": "python",
   "nbconvert_exporter": "python",
   "pygments_lexer": "ipython3",
   "version": "3.7.1"
  }
 },
 "nbformat": 4,
 "nbformat_minor": 2
}
